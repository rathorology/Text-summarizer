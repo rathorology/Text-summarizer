{
 "cells": [
  {
   "cell_type": "code",
   "execution_count": 19,
   "metadata": {},
   "outputs": [
    {
     "name": "stderr",
     "output_type": "stream",
     "text": [
      "[nltk_data] Downloading package stopwords to\n",
      "[nltk_data]     /home/rathorology/nltk_data...\n",
      "[nltk_data]   Package stopwords is already up-to-date!\n"
     ]
    }
   ],
   "source": [
    "import pandas as pd\n",
    "import gensim\n",
    "from nltk import RegexpTokenizer\n",
    "from nltk.corpus import stopwords\n",
    "import nltk\n",
    "nltk.download('stopwords')\n",
    "from nltk.cluster.util import cosine_distance\n",
    "import numpy as np\n",
    "import networkx as nx"
   ]
  },
  {
   "cell_type": "code",
   "execution_count": 3,
   "metadata": {},
   "outputs": [],
   "source": [
    "df = pd.read_csv(\"/home/rathorology/PycharmProjects/great_learning/capterra.csv\")"
   ]
  },
  {
   "cell_type": "code",
   "execution_count": 4,
   "metadata": {},
   "outputs": [
    {
     "data": {
      "text/plain": [
       "(1192123, 7)"
      ]
     },
     "execution_count": 4,
     "metadata": {},
     "output_type": "execute_result"
    }
   ],
   "source": [
    "df.shape"
   ]
  },
  {
   "cell_type": "code",
   "execution_count": 5,
   "metadata": {},
   "outputs": [
    {
     "data": {
      "text/html": [
       "<div>\n",
       "<style scoped>\n",
       "    .dataframe tbody tr th:only-of-type {\n",
       "        vertical-align: middle;\n",
       "    }\n",
       "\n",
       "    .dataframe tbody tr th {\n",
       "        vertical-align: top;\n",
       "    }\n",
       "\n",
       "    .dataframe thead th {\n",
       "        text-align: right;\n",
       "    }\n",
       "</style>\n",
       "<table border=\"1\" class=\"dataframe\">\n",
       "  <thead>\n",
       "    <tr style=\"text-align: right;\">\n",
       "      <th></th>\n",
       "      <th>productName</th>\n",
       "      <th>reviewId</th>\n",
       "      <th>productId</th>\n",
       "      <th>title</th>\n",
       "      <th>consText</th>\n",
       "      <th>prosText</th>\n",
       "      <th>comments</th>\n",
       "    </tr>\n",
       "  </thead>\n",
       "  <tbody>\n",
       "    <tr>\n",
       "      <th>0</th>\n",
       "      <td>EchoSpan 360 Degree Feedback</td>\n",
       "      <td>1584391</td>\n",
       "      <td>{'$numberInt': '106417'}</td>\n",
       "      <td>Elegant simplicity</td>\n",
       "      <td>Honestly, I can't think of anything.  The repo...</td>\n",
       "      <td>Many software packages are \"over built\" for th...</td>\n",
       "      <td>I am a fan!  EchoSpan has proven to be an idea...</td>\n",
       "    </tr>\n",
       "    <tr>\n",
       "      <th>1</th>\n",
       "      <td>EchoSpan 360 Degree Feedback</td>\n",
       "      <td>138744</td>\n",
       "      <td>{'$numberInt': '106417'}</td>\n",
       "      <td>The Echospan survey in a team effectiveness ap...</td>\n",
       "      <td>There are a few limitations especially in form...</td>\n",
       "      <td>Ours is a special application of the usual 360...</td>\n",
       "      <td>I am a confirmed fan. I searched for months fo...</td>\n",
       "    </tr>\n",
       "    <tr>\n",
       "      <th>2</th>\n",
       "      <td>EchoSpan 360 Degree Feedback</td>\n",
       "      <td>125934</td>\n",
       "      <td>{'$numberInt': '106417'}</td>\n",
       "      <td>Overall, a good experience!</td>\n",
       "      <td>NaN</td>\n",
       "      <td>NaN</td>\n",
       "      <td>I have just recently started using the system ...</td>\n",
       "    </tr>\n",
       "    <tr>\n",
       "      <th>3</th>\n",
       "      <td>EchoSpan 360 Degree Feedback</td>\n",
       "      <td>137048</td>\n",
       "      <td>{'$numberInt': '106417'}</td>\n",
       "      <td>A great product backed by a solid team</td>\n",
       "      <td>NaN</td>\n",
       "      <td>NaN</td>\n",
       "      <td>I can't say enough good things about the Echos...</td>\n",
       "    </tr>\n",
       "    <tr>\n",
       "      <th>4</th>\n",
       "      <td>EchoSpan 360 Degree Feedback</td>\n",
       "      <td>416484</td>\n",
       "      <td>{'$numberInt': '106417'}</td>\n",
       "      <td>The tool was very easy to use and utilizes gre...</td>\n",
       "      <td>The limitation on number of raters when it com...</td>\n",
       "      <td>The ease of use. I have had very few questions...</td>\n",
       "      <td>Very targeted results helped to identify which...</td>\n",
       "    </tr>\n",
       "  </tbody>\n",
       "</table>\n",
       "</div>"
      ],
      "text/plain": [
       "                    productName  reviewId                 productId  \\\n",
       "0  EchoSpan 360 Degree Feedback   1584391  {'$numberInt': '106417'}   \n",
       "1  EchoSpan 360 Degree Feedback    138744  {'$numberInt': '106417'}   \n",
       "2  EchoSpan 360 Degree Feedback    125934  {'$numberInt': '106417'}   \n",
       "3  EchoSpan 360 Degree Feedback    137048  {'$numberInt': '106417'}   \n",
       "4  EchoSpan 360 Degree Feedback    416484  {'$numberInt': '106417'}   \n",
       "\n",
       "                                               title  \\\n",
       "0                                 Elegant simplicity   \n",
       "1  The Echospan survey in a team effectiveness ap...   \n",
       "2                        Overall, a good experience!   \n",
       "3             A great product backed by a solid team   \n",
       "4  The tool was very easy to use and utilizes gre...   \n",
       "\n",
       "                                            consText  \\\n",
       "0  Honestly, I can't think of anything.  The repo...   \n",
       "1  There are a few limitations especially in form...   \n",
       "2                                                NaN   \n",
       "3                                                NaN   \n",
       "4  The limitation on number of raters when it com...   \n",
       "\n",
       "                                            prosText  \\\n",
       "0  Many software packages are \"over built\" for th...   \n",
       "1  Ours is a special application of the usual 360...   \n",
       "2                                                NaN   \n",
       "3                                                NaN   \n",
       "4  The ease of use. I have had very few questions...   \n",
       "\n",
       "                                            comments  \n",
       "0  I am a fan!  EchoSpan has proven to be an idea...  \n",
       "1  I am a confirmed fan. I searched for months fo...  \n",
       "2  I have just recently started using the system ...  \n",
       "3  I can't say enough good things about the Echos...  \n",
       "4  Very targeted results helped to identify which...  "
      ]
     },
     "execution_count": 5,
     "metadata": {},
     "output_type": "execute_result"
    }
   ],
   "source": [
    "df.head()"
   ]
  },
  {
   "cell_type": "code",
   "execution_count": 6,
   "metadata": {},
   "outputs": [],
   "source": [
    "def clean_sent_words(sent):\n",
    "    sent = str(sent).lower()\n",
    "    sent = RegexpTokenizer(r'\\w+').tokenize(sent)\n",
    "    stop = set(stopwords.words('english'))\n",
    "    sent_words = [word for word in sent if word not in stop]\n",
    "\n",
    "    return sent_words"
   ]
  },
  {
   "cell_type": "code",
   "execution_count": 7,
   "metadata": {},
   "outputs": [],
   "source": [
    "filtered = clean_sent_words(df.comments)"
   ]
  },
  {
   "cell_type": "code",
   "execution_count": 12,
   "metadata": {},
   "outputs": [],
   "source": [
    "filtered = list()\n",
    "for sent in df.comments.tolist():\n",
    "    filtered.append(clean_sent_words(sent))\n"
   ]
  },
  {
   "cell_type": "code",
   "execution_count": null,
   "metadata": {},
   "outputs": [],
   "source": []
  }
 ],
 "metadata": {
  "kernelspec": {
   "display_name": "Python 3",
   "language": "python",
   "name": "python3"
  },
  "language_info": {
   "codemirror_mode": {
    "name": "ipython",
    "version": 3
   },
   "file_extension": ".py",
   "mimetype": "text/x-python",
   "name": "python",
   "nbconvert_exporter": "python",
   "pygments_lexer": "ipython3",
   "version": "3.7.5"
  }
 },
 "nbformat": 4,
 "nbformat_minor": 2
}
