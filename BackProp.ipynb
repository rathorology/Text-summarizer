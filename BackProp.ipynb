{
 "cells": [
  {
   "cell_type": "code",
   "execution_count": 2,
   "metadata": {
    "collapsed": true
   },
   "outputs": [],
   "source": [
    "def sigmoid(value):\n",
    "    return 1.0 / (1.0 + exp(-value))\n",
    "\n",
    "# Derivative\n",
    "def drv(value):\n",
    "    return value * (1.0 - value)\n",
    "\n",
    "# Assuming Two Layer Neural Network where x^2, 4y and z are 3 inputs in single neuron and a single neuron in output \n",
    "# and sigmoid activation\n",
    "x = 1\n",
    "y = 1\n",
    "z = 1\n",
    "loss = 0.6\n",
    "learning_rate = 1\n",
    "W_i = 0.5 # Random Value\n",
    "K_Input = sigmoid(W_i*(x*x + 4*y + z))\n",
    "K_Output = 2 # Random output\n",
    "\n",
    "back_K_Input = learning_rate*(loss*drv(K_Input))\n",
    "W_i = W_i + back_K_Input * K_Input"
   ]
  }
 ],
 "metadata": {
  "kernelspec": {
   "display_name": "Python 3",
   "language": "python",
   "name": "python3"
  },
  "language_info": {
   "codemirror_mode": {
    "name": "ipython",
    "version": 3
   },
   "file_extension": ".py",
   "mimetype": "text/x-python",
   "name": "python",
   "nbconvert_exporter": "python",
   "pygments_lexer": "ipython3",
   "version": "3.7.5"
  }
 },
 "nbformat": 4,
 "nbformat_minor": 2
}
