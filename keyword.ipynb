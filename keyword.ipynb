{
 "cells": [
  {
   "cell_type": "code",
   "execution_count": 4,
   "metadata": {},
   "outputs": [
    {
     "name": "stderr",
     "output_type": "stream",
     "text": [
      "[nltk_data] Downloading package stopwords to\n",
      "[nltk_data]     /home/rathorology/nltk_data...\n",
      "[nltk_data]   Package stopwords is already up-to-date!\n"
     ]
    }
   ],
   "source": [
    "import gensim\n",
    "from nltk import RegexpTokenizer\n",
    "from nltk.corpus import stopwords\n",
    "import nltk\n",
    "nltk.download('stopwords')\n",
    "filename = \"/home/rathorology/PycharmProjects/great_learning/capterra/capterra_products.json\""
   ]
  },
  {
   "cell_type": "code",
   "execution_count": 5,
   "metadata": {},
   "outputs": [],
   "source": [
    "#  {\n",
    "#                     \"functionalityRating\": {\n",
    "#                         \"$numberInt\": \"5\"\n",
    "#                     },\n",
    "#                     \"sourceSite\": \"Capterra\",\n",
    "#                     \"prosText\": \"Many software packages are \\\"over built\\\" for the functionality businesses actually need.  EchoSpan is one of the few companies who designs software that walks that line perfectly.  The basics are covered with an easy step-by-step process that is both intuitive and elegant. There are also advanced features like sentiment analysis to keep pace with market competitors. They've delivered the perfect balance of neither too much nor too little functionality in their software, which makes it particularly ideal for mid-market clients.  Additionally, I can't say enough about the professionalism of their project management team.  We outsourced a very high profile project to EchoSpan and I never experienced such seamless implementation, flexibility to change course when needed, and detailed communication to ensure decisions happened quickly.  Bravo EchoSpan!\",\n",
    "#                     \"globalReviewId\": \"Capterra___1584391\",\n",
    "#                     \"vendorId\": {\n",
    "#                         \"$numberInt\": \"2071089\"\n",
    "#                     },\n",
    "#                     \"title\": \"Elegant simplicity\",\n",
    "#                     \"easeOfUseRating\": {\n",
    "#                         \"$numberInt\": \"5\"\n",
    "#                     },\n",
    "#                     \"productName\": \"EchoSpan 360 Degree Feedback\",\n",
    "#                     \"vendorResponse\": {\n",
    "#                         \"date\": null,\n",
    "#                         \"name\": \"EchoSpan\",\n",
    "#                         \"text\": null\n",
    "#                     },\n",
    "#                     \"recommendationRating\": {\n",
    "#                         \"$numberInt\": \"10\"\n",
    "#                     },\n",
    "#                     \"statusName\": \"Published\",\n",
    "#                     \"generalComments\": \"I am a fan!  EchoSpan has proven to be an ideal partner for our engagement surveys.  The staff are highly responsive and the communication on projects is unsurpassed.  These characteristics are not easy to find in many bigger technology companies.  Bigger is not always better.  EchoSpan is the smart choice for solid software functionality and 5 star customer service!\",\n",
    "#                     \"writtenOn\": \"2019-06-08 06:52:32 -0400\",\n",
    "#                     \"overallRating\": {\n",
    "#                         \"$numberInt\": \"5\"\n",
    "#                     },\n",
    "#                     \"productId\": {\n",
    "#                         \"$numberInt\": \"106417\"\n",
    "#                     },\n",
    "#                     \"isPublished\": true,\n",
    "#                     \"consText\": \"Honestly, I can't think of anything.  The reports are straightforward and easy to understand.  Some of the competitors have elegant data visualization dashboards but charge 2x the money for it.\",\n",
    "#                     \"reviewer\": {\n",
    "#                         \"frequencyUsedProduct\": \"Other\",\n",
    "#                         \"role\": [\n",
    "#                             \"2\"\n",
    "#                         ],\n",
    "#                         \"profilePicUrl\": null,\n",
    "#                         \"jobTitle\": \"Principal, Organization Effectiveness\",\n",
    "#                         \"companyName\": \"Availity\",\n",
    "#                         \"timeUsedProduct\": \"2+ years\",\n",
    "#                         \"fullName\": \"Liz V.\",\n",
    "#                         \"industry\": \"Information Technology and Services\",\n",
    "#                         \"companySize\": \"501-1000 employees\",\n",
    "#                         \"verifiedLinkedIn\": false\n",
    "#                     },\n",
    "#                     \"productSlug\": \"EchoSpan-360-Degree-Feedback\",\n",
    "#                     \"adviceToOthers\": \"\",\n",
    "#                     \"incentivized\": \"NoIncentive\",\n",
    "#                     \"valueForMoneyRating\": {\n",
    "#                         \"$numberInt\": \"5\"\n",
    "#                     },\n",
    "#                     \"anonymityOn\": false,\n",
    "#                     \"customerSupportRating\": {\n",
    "#                         \"$numberInt\": \"5\"\n",
    "#                     },\n",
    "#                     \"reviewId\": \"1584391\"\n",
    "#                 },\n"
   ]
  },
  {
   "cell_type": "code",
   "execution_count": 6,
   "metadata": {},
   "outputs": [],
   "source": [
    "import ijson\n",
    "with open(filename, 'r') as f:\n",
    "    objects = ijson.items(f, 'RECORDS.item.reviews.item.generalComments')\n",
    "    columns = list(objects)\n",
    "\n",
    "comments = columns"
   ]
  },
  {
   "cell_type": "code",
   "execution_count": 7,
   "metadata": {},
   "outputs": [],
   "source": [
    "import ijson\n",
    "with open(filename, 'r') as f:\n",
    "    objects = ijson.items(f, 'RECORDS.item.reviews.item.prosText')\n",
    "    columns = list(objects)\n",
    "\n",
    "prosText = columns"
   ]
  },
  {
   "cell_type": "code",
   "execution_count": 8,
   "metadata": {},
   "outputs": [],
   "source": [
    "import ijson\n",
    "with open(filename, 'r') as f:\n",
    "    objects = ijson.items(f, 'RECORDS.item.reviews.item.consText')\n",
    "    columns = list(objects)\n",
    "\n",
    "consText = columns"
   ]
  },
  {
   "cell_type": "code",
   "execution_count": 9,
   "metadata": {},
   "outputs": [],
   "source": [
    "import ijson\n",
    "with open(filename, 'r') as f:\n",
    "    objects = ijson.items(f, 'RECORDS.item.reviews.item.productName')\n",
    "    columns = list(objects)\n",
    "\n",
    "productName = columns"
   ]
  },
  {
   "cell_type": "code",
   "execution_count": 10,
   "metadata": {},
   "outputs": [],
   "source": [
    "import ijson\n",
    "with open(filename, 'r') as f:\n",
    "    objects = ijson.items(f, 'RECORDS.item.reviews.item.title')\n",
    "    columns = list(objects)\n",
    "\n",
    "title = columns"
   ]
  },
  {
   "cell_type": "code",
   "execution_count": 11,
   "metadata": {},
   "outputs": [],
   "source": [
    "import ijson\n",
    "with open(filename, 'r') as f:\n",
    "    objects = ijson.items(f, 'RECORDS.item.reviews.item.productId')\n",
    "    columns = list(objects)\n",
    "\n",
    "productId = columns"
   ]
  },
  {
   "cell_type": "code",
   "execution_count": 12,
   "metadata": {},
   "outputs": [],
   "source": [
    "import ijson\n",
    "with open(filename, 'r') as f:\n",
    "    objects = ijson.items(f, 'RECORDS.item.reviews.item.reviewId')\n",
    "    columns = list(objects)\n",
    "\n",
    "reviewId = columns"
   ]
  },
  {
   "cell_type": "code",
   "execution_count": 18,
   "metadata": {},
   "outputs": [],
   "source": [
    "import pandas as pd\n",
    "df = pd.DataFrame()\n",
    "df['productName'] = productName\n",
    "df['reviewId'] = reviewId\n",
    "df['productId'] = productId\n",
    "df['title'] = title\n",
    "df['consText'] = consText\n",
    "df['prosText'] = prosText\n",
    "df['comments'] = comments\n",
    "df.to_csv(\"/home/rathorology/PycharmProjects/great_learning/capterra.csv\",index=False)"
   ]
  },
  {
   "cell_type": "code",
   "execution_count": 15,
   "metadata": {},
   "outputs": [],
   "source": [
    "def clean_sent_words(sent):\n",
    "    sent = sent.lower()\n",
    "    sent = RegexpTokenizer(r'\\w+').tokenize(sent)\n",
    "    stop = set(stopwords.words('english'))\n",
    "    sent_words = [word for word in sent if word not in stop]\n",
    "\n",
    "    return sent_words"
   ]
  },
  {
   "cell_type": "code",
   "execution_count": 16,
   "metadata": {},
   "outputs": [],
   "source": [
    "filtered = list()\n",
    "for review in reviews:\n",
    "    filtered_review = clean_sent_words(review)\n",
    "    filtered.append(filtered_review)"
   ]
  },
  {
   "cell_type": "code",
   "execution_count": 17,
   "metadata": {},
   "outputs": [
    {
     "data": {
      "text/plain": [
       "['fan',\n",
       " 'echospan',\n",
       " 'proven',\n",
       " 'ideal',\n",
       " 'partner',\n",
       " 'engagement',\n",
       " 'surveys',\n",
       " 'staff',\n",
       " 'highly',\n",
       " 'responsive',\n",
       " 'communication',\n",
       " 'projects',\n",
       " 'unsurpassed',\n",
       " 'characteristics',\n",
       " 'easy',\n",
       " 'find',\n",
       " 'many',\n",
       " 'bigger',\n",
       " 'technology',\n",
       " 'companies',\n",
       " 'bigger',\n",
       " 'always',\n",
       " 'better',\n",
       " 'echospan',\n",
       " 'smart',\n",
       " 'choice',\n",
       " 'solid',\n",
       " 'software',\n",
       " 'functionality',\n",
       " '5',\n",
       " 'star',\n",
       " 'customer',\n",
       " 'service']"
      ]
     },
     "execution_count": 17,
     "metadata": {},
     "output_type": "execute_result"
    }
   ],
   "source": []
  },
  {
   "cell_type": "code",
   "execution_count": null,
   "metadata": {},
   "outputs": [],
   "source": []
  }
 ],
 "metadata": {
  "kernelspec": {
   "display_name": "Python 3",
   "language": "python",
   "name": "python3"
  },
  "language_info": {
   "codemirror_mode": {
    "name": "ipython",
    "version": 3
   },
   "file_extension": ".py",
   "mimetype": "text/x-python",
   "name": "python",
   "nbconvert_exporter": "python",
   "pygments_lexer": "ipython3",
   "version": "3.7.5"
  }
 },
 "nbformat": 4,
 "nbformat_minor": 2
}
